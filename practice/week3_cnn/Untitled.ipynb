{
 "cells": [
  {
   "cell_type": "markdown",
   "id": "6ce46090-85df-4f2d-97fe-759c0fb5cf47",
   "metadata": {},
   "source": [
    "# Cat vs dog classification"
   ]
  },
  {
   "cell_type": "code",
   "execution_count": null,
   "id": "a19e3c32-2b5b-4ca9-aef5-ed4e53174bf1",
   "metadata": {},
   "outputs": [],
   "source": [
    "https://machinelearningmastery.com/how-to-develop-a-convolutional-neural-network-to-classify-photos-of-dogs-and-cats/"
   ]
  }
 ],
 "metadata": {
  "kernelspec": {
   "display_name": "py38",
   "language": "python",
   "name": "py38"
  },
  "language_info": {
   "codemirror_mode": {
    "name": "ipython",
    "version": 3
   },
   "file_extension": ".py",
   "mimetype": "text/x-python",
   "name": "python",
   "nbconvert_exporter": "python",
   "pygments_lexer": "ipython3",
   "version": "3.8.12"
  }
 },
 "nbformat": 4,
 "nbformat_minor": 5
}
